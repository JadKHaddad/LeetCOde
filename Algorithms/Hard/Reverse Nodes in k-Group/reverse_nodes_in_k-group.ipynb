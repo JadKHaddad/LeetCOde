{
 "cells": [
  {
   "cell_type": "code",
   "execution_count": 74,
   "source": [
    "from typing import Optional\r\n",
    "class ListNode:\r\n",
    "    def __init__(self, val=0, next=None):\r\n",
    "        self.val = val\r\n",
    "        self.next = next\r\n",
    "\r\n",
    "def show(l1: Optional[ListNode]):\r\n",
    "    while l1:\r\n",
    "        print(l1.val)\r\n",
    "        l1 = l1.next"
   ],
   "outputs": [],
   "metadata": {}
  },
  {
   "cell_type": "code",
   "execution_count": 75,
   "source": [
    "class Solution:\r\n",
    "    def reverse(self, head: Optional[ListNode]) -> Optional[ListNode]:\r\n",
    "        arr = []\r\n",
    "        reversed = ListNode()\r\n",
    "        reversed_return = reversed\r\n",
    "        while head:\r\n",
    "            arr.append(head.val)\r\n",
    "            head = head.next\r\n",
    "        for i in range(1, len(arr) + 1):\r\n",
    "            reversed.next = ListNode(arr[-i])\r\n",
    "            reversed = reversed.next\r\n",
    "        return reversed_return.next\r\n",
    "\r\n",
    "    def reverseKGroup(self, head: Optional[ListNode], k: int) -> Optional[ListNode]:\r\n",
    "        if k == 1 or k == 0 or not head or not head.next:\r\n",
    "            return head\r\n",
    "        arr = []\r\n",
    "        current = head\r\n",
    "        part = current\r\n",
    "        last_part = current\r\n",
    "        i = 1\r\n",
    "        while current:\r\n",
    "            if i == k:\r\n",
    "                temp = current.next\r\n",
    "                current.next = None\r\n",
    "                arr.append(part)\r\n",
    "                current = temp\r\n",
    "                part = current\r\n",
    "                last_part = current\r\n",
    "                i = 1\r\n",
    "                continue\r\n",
    "            current = current.next\r\n",
    "            i = i + 1\r\n",
    "        if len(arr) < 1:\r\n",
    "            return head\r\n",
    "        reversed = self.reverse(arr[0])\r\n",
    "        reversed_return = reversed\r\n",
    "        for i in range(1, len(arr)):\r\n",
    "            while reversed.next:\r\n",
    "                reversed = reversed.next\r\n",
    "            reversed.next = self.reverse(arr[i])\r\n",
    "        while reversed.next:\r\n",
    "            reversed = reversed.next\r\n",
    "        reversed.next = last_part\r\n",
    "        return reversed_return"
   ],
   "outputs": [],
   "metadata": {}
  },
  {
   "cell_type": "code",
   "execution_count": 76,
   "source": [
    "head = ListNode(1,ListNode(2,ListNode(3,ListNode(4,ListNode(5)))))\r\n",
    "#head = ListNode(1,ListNode(2,ListNode(3)))\r\n",
    "k = 2\r\n",
    "head = Solution().reverseKGroup(head, k)\r\n",
    "show(head)"
   ],
   "outputs": [
    {
     "output_type": "stream",
     "name": "stdout",
     "text": [
      "2\n",
      "1\n",
      "4\n",
      "3\n",
      "5\n"
     ]
    }
   ],
   "metadata": {}
  }
 ],
 "metadata": {
  "orig_nbformat": 4,
  "language_info": {
   "name": "python",
   "version": "3.9.6",
   "mimetype": "text/x-python",
   "codemirror_mode": {
    "name": "ipython",
    "version": 3
   },
   "pygments_lexer": "ipython3",
   "nbconvert_exporter": "python",
   "file_extension": ".py"
  },
  "kernelspec": {
   "name": "python3",
   "display_name": "Python 3.9.6 64-bit"
  },
  "interpreter": {
   "hash": "9e6fe232ec1802e04813a62eadbd4a033db6fcefdd78d84705bbb38e45fcef4a"
  }
 },
 "nbformat": 4,
 "nbformat_minor": 2
}