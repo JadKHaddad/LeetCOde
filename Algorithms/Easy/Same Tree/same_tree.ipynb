{
 "cells": [
  {
   "cell_type": "code",
   "execution_count": 37,
   "source": [
    "from typing import Optional\r\n",
    "\r\n",
    "class TreeNode:\r\n",
    "    def __init__(self, val=0, left=None, right=None):\r\n",
    "        self.val = val\r\n",
    "        self.left = left\r\n",
    "        self.right = right\r\n",
    "\r\n",
    "def show(root):\r\n",
    "    if root:\r\n",
    "        print(root.val)\r\n",
    "        show(root.left)\r\n",
    "        show(root.right)"
   ],
   "outputs": [],
   "metadata": {}
  },
  {
   "cell_type": "code",
   "execution_count": 38,
   "source": [
    "class Solution:\r\n",
    "    def isSameTree(self, p: Optional[TreeNode], q: Optional[TreeNode]) -> bool:\r\n",
    "        if not p and not q:\r\n",
    "            return True\r\n",
    "        if p and not q or q and not p:\r\n",
    "            return False\r\n",
    "        if p.left and not q.left or p.right and not q.right:\r\n",
    "            return False\r\n",
    "        if q.left and not p.left or q.right and not p.right:\r\n",
    "            return False\r\n",
    "        if not p.val == q.val:\r\n",
    "            return False\r\n",
    "        if not self.isSameTree(p.left, q.left):\r\n",
    "            return False\r\n",
    "        if not self.isSameTree(p.right, q.right):\r\n",
    "            return False\r\n",
    "        return True"
   ],
   "outputs": [],
   "metadata": {}
  },
  {
   "cell_type": "code",
   "execution_count": 39,
   "source": [
    "p = TreeNode(1)\r\n",
    "p_1 = TreeNode(2)\r\n",
    "p_2 = TreeNode(3)\r\n",
    "p.left = p_1\r\n",
    "p.right = p_2\r\n",
    "\r\n",
    "q = TreeNode(1)\r\n",
    "q_1 = TreeNode(2)\r\n",
    "q_2 = TreeNode(3)\r\n",
    "q.left = q_1\r\n",
    "q.right = q_2\r\n",
    "print(Solution().isSameTree(p,q))"
   ],
   "outputs": [
    {
     "output_type": "stream",
     "name": "stdout",
     "text": [
      "True\n"
     ]
    }
   ],
   "metadata": {}
  }
 ],
 "metadata": {
  "orig_nbformat": 4,
  "language_info": {
   "name": "python",
   "version": "3.9.6",
   "mimetype": "text/x-python",
   "codemirror_mode": {
    "name": "ipython",
    "version": 3
   },
   "pygments_lexer": "ipython3",
   "nbconvert_exporter": "python",
   "file_extension": ".py"
  },
  "kernelspec": {
   "name": "python3",
   "display_name": "Python 3.9.6 64-bit"
  },
  "interpreter": {
   "hash": "9e6fe232ec1802e04813a62eadbd4a033db6fcefdd78d84705bbb38e45fcef4a"
  }
 },
 "nbformat": 4,
 "nbformat_minor": 2
}