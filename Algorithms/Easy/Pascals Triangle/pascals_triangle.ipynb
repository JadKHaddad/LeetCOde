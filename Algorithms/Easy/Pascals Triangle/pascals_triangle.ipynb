{
 "cells": [
  {
   "cell_type": "code",
   "execution_count": 2,
   "source": [
    "from typing import List"
   ],
   "outputs": [],
   "metadata": {}
  },
  {
   "cell_type": "code",
   "execution_count": 32,
   "source": [
    "class Solution:\r\n",
    "    def generate(self, numRows: int) -> List[List[int]]:\r\n",
    "        result = []\r\n",
    "        if numRows < 1:\r\n",
    "            return result\r\n",
    "        result.append([1])\r\n",
    "        if numRows < 2:\r\n",
    "            return result\r\n",
    "        result.append([1,1])\r\n",
    "        if numRows < 3:\r\n",
    "            return result\r\n",
    "        for i in range(2, numRows):\r\n",
    "            to_append = []\r\n",
    "            to_append.append(1)\r\n",
    "            for j in range(1, len(result[i-1])):\r\n",
    "                to_append.append(result[i-1][j-1] + result[i-1][j])\r\n",
    "            to_append.append(1)\r\n",
    "            result.append(to_append)\r\n",
    "        return result"
   ],
   "outputs": [],
   "metadata": {}
  },
  {
   "cell_type": "code",
   "execution_count": 33,
   "source": [
    "numRows = 5\r\n",
    "print(Solution().generate(numRows))"
   ],
   "outputs": [
    {
     "output_type": "stream",
     "name": "stdout",
     "text": [
      "[[1], [1, 1], [1, 2, 1], [1, 3, 3, 1], [1, 4, 6, 4, 1]]\n"
     ]
    }
   ],
   "metadata": {}
  }
 ],
 "metadata": {
  "orig_nbformat": 4,
  "language_info": {
   "name": "python",
   "version": "3.9.6",
   "mimetype": "text/x-python",
   "codemirror_mode": {
    "name": "ipython",
    "version": 3
   },
   "pygments_lexer": "ipython3",
   "nbconvert_exporter": "python",
   "file_extension": ".py"
  },
  "kernelspec": {
   "name": "python3",
   "display_name": "Python 3.9.6 64-bit"
  },
  "interpreter": {
   "hash": "9e6fe232ec1802e04813a62eadbd4a033db6fcefdd78d84705bbb38e45fcef4a"
  }
 },
 "nbformat": 4,
 "nbformat_minor": 2
}