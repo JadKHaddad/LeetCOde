{
 "cells": [
  {
   "cell_type": "code",
   "execution_count": 9,
   "source": [
    "class Solution:\r\n",
    "    def isPathCrossing(self, path: str) -> bool:\r\n",
    "        point = (0,0)\r\n",
    "        visited = {}\r\n",
    "        visited[point] = \"\"\r\n",
    "        for i in range(0, len(path)):\r\n",
    "            if(path[i] == 'N'):\r\n",
    "                new_point = (point[0], point[1] + 1)\r\n",
    "                if new_point in visited:\r\n",
    "                    return True\r\n",
    "                point = new_point\r\n",
    "                visited[point] = \"\"\r\n",
    "                continue\r\n",
    "            if(path[i] == 'S'):\r\n",
    "                new_point = (point[0], point[1] - 1)\r\n",
    "                if new_point in visited:\r\n",
    "                    return True\r\n",
    "                point = new_point\r\n",
    "                visited[point] = \"\"\r\n",
    "                continue\r\n",
    "            if(path[i] == 'E'):\r\n",
    "                new_point = (point[0] + 1, point[1])\r\n",
    "                if new_point in visited:\r\n",
    "                    return True\r\n",
    "                point = new_point\r\n",
    "                visited[point] = \"\"\r\n",
    "                continue\r\n",
    "            if(path[i] == 'W'):\r\n",
    "                new_point = (point[0]- 1, point[1])\r\n",
    "                if new_point in visited:\r\n",
    "                    return True\r\n",
    "                point = new_point\r\n",
    "                visited[point] = \"\"\r\n",
    "                continue\r\n",
    "        return False"
   ],
   "outputs": [],
   "metadata": {}
  },
  {
   "cell_type": "code",
   "execution_count": 10,
   "source": [
    "path = \"NES\"\r\n",
    "print(Solution().isPathCrossing(path))"
   ],
   "outputs": [
    {
     "output_type": "stream",
     "name": "stdout",
     "text": [
      "False\n"
     ]
    }
   ],
   "metadata": {}
  }
 ],
 "metadata": {
  "orig_nbformat": 4,
  "language_info": {
   "name": "python",
   "version": "3.9.6",
   "mimetype": "text/x-python",
   "codemirror_mode": {
    "name": "ipython",
    "version": 3
   },
   "pygments_lexer": "ipython3",
   "nbconvert_exporter": "python",
   "file_extension": ".py"
  },
  "kernelspec": {
   "name": "python3",
   "display_name": "Python 3.9.6 64-bit"
  },
  "interpreter": {
   "hash": "9e6fe232ec1802e04813a62eadbd4a033db6fcefdd78d84705bbb38e45fcef4a"
  }
 },
 "nbformat": 4,
 "nbformat_minor": 2
}