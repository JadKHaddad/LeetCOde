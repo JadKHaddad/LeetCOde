{
    "cells": [
        {
            "cell_type": "code",
            "execution_count": 2,
            "source": [
                "from typing import List"
            ],
            "outputs": [],
            "metadata": {}
        },
        {
            "cell_type": "code",
            "execution_count": 23,
            "source": [
                "class Solution:\r\n",
                "    def duplicateZeros(self, arr: List[int]) -> None:\r\n",
                "        i = 0\r\n",
                "        l = len(arr)\r\n",
                "        while i < l:\r\n",
                "            if arr[i] == 0:\r\n",
                "                arr.insert(i, 0)\r\n",
                "                del arr[-1]\r\n",
                "                i = i + 1\r\n",
                "            i = i + 1   "
            ],
            "outputs": [],
            "metadata": {}
        },
        {
            "cell_type": "code",
            "execution_count": 24,
            "source": [
                "arr = [1,0,2,3,0,4,5,0]\r\n",
                "Solution().duplicateZeros(arr)\r\n",
                "print(arr)"
            ],
            "outputs": [
                {
                    "output_type": "stream",
                    "name": "stdout",
                    "text": [
                        "[1, 0, 0, 2, 3, 0, 0, 4]\n"
                    ]
                }
            ],
            "metadata": {}
        }
    ],
    "metadata": {
        "orig_nbformat": 4,
        "language_info": {
            "name": "python",
            "version": "3.9.6",
            "mimetype": "text/x-python",
            "codemirror_mode": {
                "name": "ipython",
                "version": 3
            },
            "pygments_lexer": "ipython3",
            "nbconvert_exporter": "python",
            "file_extension": ".py"
        },
        "kernelspec": {
            "name": "python3",
            "display_name": "Python 3.9.6 64-bit"
        },
        "interpreter": {
            "hash": "9e6fe232ec1802e04813a62eadbd4a033db6fcefdd78d84705bbb38e45fcef4a"
        }
    },
    "nbformat": 4,
    "nbformat_minor": 2
}