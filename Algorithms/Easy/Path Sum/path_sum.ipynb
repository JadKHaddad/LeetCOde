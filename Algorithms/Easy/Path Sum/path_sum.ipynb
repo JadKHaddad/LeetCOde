{
 "cells": [
  {
   "cell_type": "code",
   "execution_count": 35,
   "source": [
    "from typing import Optional\r\n",
    "\r\n",
    "class TreeNode:\r\n",
    "    def __init__(self, val=0, left=None, right=None):\r\n",
    "        self.val = val\r\n",
    "        self.left = left\r\n",
    "        self.right = right\r\n",
    "\r\n",
    "def show(root):\r\n",
    "    if root:\r\n",
    "        print(root.val)\r\n",
    "        show(root.left)\r\n",
    "        show(root.right)"
   ],
   "outputs": [],
   "metadata": {}
  },
  {
   "cell_type": "code",
   "execution_count": 36,
   "source": [
    "class Solution:\r\n",
    "    def hasPathSum(self, root: Optional[TreeNode], targetSum: int) -> bool:\r\n",
    "        if not root:\r\n",
    "            return False\r\n",
    "        if targetSum - root.val == 0:\r\n",
    "            if not root.left and not root.right:\r\n",
    "                return True\r\n",
    "        if root.left:        \r\n",
    "            if self.hasPathSum(root.left, targetSum - root.val):\r\n",
    "                return True\r\n",
    "        if root.right:\r\n",
    "            if self.hasPathSum(root.right, targetSum - root.val):\r\n",
    "                return True\r\n",
    "        return False\r\n"
   ],
   "outputs": [],
   "metadata": {}
  },
  {
   "cell_type": "code",
   "execution_count": 37,
   "source": [
    "targetSum = 27\r\n",
    "root = TreeNode(5)\r\n",
    "_2 = TreeNode(4)\r\n",
    "_2_1 = TreeNode(11)\r\n",
    "_2_1_1 = TreeNode(2)\r\n",
    "_2_1_2 = TreeNode(7)\r\n",
    "_3 = TreeNode(8)\r\n",
    "_3_1 = TreeNode(13)\r\n",
    "_3_2 = TreeNode(4)\r\n",
    "_3_2_1 = TreeNode(1)\r\n",
    "_3_2.right = _3_2_1\r\n",
    "_3.left = _3_1\r\n",
    "_3.right = _3_2\r\n",
    "_2_1.left = _2_1_1\r\n",
    "_2_1.right = _2_1_2\r\n",
    "_2.left = _2_1\r\n",
    "root.left = _2\r\n",
    "root.right = _3\r\n",
    "\r\n",
    "print(Solution().hasPathSum(root, targetSum))"
   ],
   "outputs": [
    {
     "output_type": "stream",
     "name": "stdout",
     "text": [
      "True\n"
     ]
    }
   ],
   "metadata": {}
  },
  {
   "cell_type": "code",
   "execution_count": 38,
   "source": [
    "targetSum = -2\r\n",
    "root = TreeNode(-2)\r\n",
    "_2 = TreeNode(-3)\r\n",
    "root.right = _2\r\n",
    "\r\n",
    "print(Solution().hasPathSum(root, targetSum))"
   ],
   "outputs": [
    {
     "output_type": "stream",
     "name": "stdout",
     "text": [
      "False\n"
     ]
    }
   ],
   "metadata": {}
  }
 ],
 "metadata": {
  "orig_nbformat": 4,
  "language_info": {
   "name": "python",
   "version": "3.9.6",
   "mimetype": "text/x-python",
   "codemirror_mode": {
    "name": "ipython",
    "version": 3
   },
   "pygments_lexer": "ipython3",
   "nbconvert_exporter": "python",
   "file_extension": ".py"
  },
  "kernelspec": {
   "name": "python3",
   "display_name": "Python 3.9.6 64-bit"
  },
  "interpreter": {
   "hash": "9e6fe232ec1802e04813a62eadbd4a033db6fcefdd78d84705bbb38e45fcef4a"
  }
 },
 "nbformat": 4,
 "nbformat_minor": 2
}