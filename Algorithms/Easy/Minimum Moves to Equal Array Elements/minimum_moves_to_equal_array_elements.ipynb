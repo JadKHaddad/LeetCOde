{
    "cells": [
        {
            "cell_type": "code",
            "execution_count": 2,
            "source": [
                "from typing import List"
            ],
            "outputs": [],
            "metadata": {}
        },
        {
            "cell_type": "code",
            "execution_count": 194,
            "source": [
                "class Solution:\r\n",
                "    #bad\r\n",
                "    def minMoves_(self, nums: List[int]) -> int:\r\n",
                "        if len(nums) < 2:\r\n",
                "            return 0\r\n",
                "        if len(nums) < 3:\r\n",
                "            return abs(nums[0] - nums[1])\r\n",
                "        max_value = nums[0]\r\n",
                "        one_max = True\r\n",
                "        max_exists = False\r\n",
                "        for i in range(1, len(nums)):\r\n",
                "            if nums[i] == max_value:\r\n",
                "                one_max = False\r\n",
                "                continue\r\n",
                "            if nums[i] > max_value:\r\n",
                "                max_value = nums[i]\r\n",
                "                one_max = True\r\n",
                "            max_exists = True\r\n",
                "        if not max_exists:\r\n",
                "            return 0\r\n",
                "        if one_max:\r\n",
                "            done = True\r\n",
                "            last_value = nums[0]\r\n",
                "            for i in range(1, len(nums)):\r\n",
                "                if nums[i] == max_value:\r\n",
                "                    continue\r\n",
                "                if nums[i] != last_value and last_value != max_value:\r\n",
                "                    done = False\r\n",
                "                last_value = nums[i]\r\n",
                "            if done:\r\n",
                "                return max_value - last_value\r\n",
                "        moves = 0\r\n",
                "        while True:\r\n",
                "            done = True\r\n",
                "            incremented = False\r\n",
                "            max_seen = False\r\n",
                "            for i in range(0, len(nums)):\r\n",
                "                if max_seen:\r\n",
                "                    nums[i] = nums[i] + 1\r\n",
                "                    if nums[i] != max_value:\r\n",
                "                        done = False\r\n",
                "                    if nums[i] > max_value:\r\n",
                "                        max_value = nums[i]\r\n",
                "                    incremented = True\r\n",
                "                    continue\r\n",
                "                if nums[i] == max_value:\r\n",
                "                    max_seen = True\r\n",
                "                    continue\r\n",
                "                nums[i] = nums[i] + 1\r\n",
                "                if nums[i] != max_value:\r\n",
                "                    done = False\r\n",
                "                incremented = True\r\n",
                "            if incremented:\r\n",
                "                moves = moves + 1\r\n",
                "            if done:\r\n",
                "                return moves\r\n",
                "\r\n",
                "    def minMoves(self, nums: List[int]) -> int:\r\n",
                "        sum = 0 \r\n",
                "        min = nums[0]\r\n",
                "        for i in range(0, len(nums)):\r\n",
                "            if nums[i] < min:\r\n",
                "                min = nums[i]\r\n",
                "            sum += nums[i] \r\n",
                "        return sum - len(nums) * min"
            ],
            "outputs": [
                {
                    "output_type": "stream",
                    "name": "stdout",
                    "text": [
                        "3\n"
                    ]
                }
            ],
            "metadata": {}
        },
        {
            "cell_type": "code",
            "execution_count": null,
            "source": [
                "nums = [1,2,3]\r\n",
                "print(Solution().minMoves(nums))"
            ],
            "outputs": [],
            "metadata": {}
        }
    ],
    "metadata": {
        "orig_nbformat": 4,
        "language_info": {
            "name": "python",
            "version": "3.9.6",
            "mimetype": "text/x-python",
            "codemirror_mode": {
                "name": "ipython",
                "version": 3
            },
            "pygments_lexer": "ipython3",
            "nbconvert_exporter": "python",
            "file_extension": ".py"
        },
        "kernelspec": {
            "name": "python3",
            "display_name": "Python 3.9.6 64-bit"
        },
        "interpreter": {
            "hash": "9e6fe232ec1802e04813a62eadbd4a033db6fcefdd78d84705bbb38e45fcef4a"
        }
    },
    "nbformat": 4,
    "nbformat_minor": 2
}