{
 "cells": [
  {
   "cell_type": "code",
   "execution_count": 34,
   "source": [
    "class Solution:\r\n",
    "    def isHappy(self, n: int) -> bool:\r\n",
    "        dict = {}\r\n",
    "        while n not in dict:\r\n",
    "            dict[n] = 1\r\n",
    "            sum = 0\r\n",
    "            while not n == 0:\r\n",
    "                sum = sum + (n % 10) * (n % 10)\r\n",
    "                n = int(n / 10)\r\n",
    "            if sum == 1:\r\n",
    "                return True\r\n",
    "            n = sum\r\n",
    "        return False"
   ],
   "outputs": [
    {
     "output_type": "stream",
     "name": "stdout",
     "text": [
      "False\n"
     ]
    }
   ],
   "metadata": {}
  },
  {
   "cell_type": "code",
   "execution_count": null,
   "source": [
    "n = 19\r\n",
    "print(Solution().isHappy(n))"
   ],
   "outputs": [],
   "metadata": {}
  }
 ],
 "metadata": {
  "orig_nbformat": 4,
  "language_info": {
   "name": "python",
   "version": "3.9.6",
   "mimetype": "text/x-python",
   "codemirror_mode": {
    "name": "ipython",
    "version": 3
   },
   "pygments_lexer": "ipython3",
   "nbconvert_exporter": "python",
   "file_extension": ".py"
  },
  "kernelspec": {
   "name": "python3",
   "display_name": "Python 3.9.6 64-bit"
  },
  "interpreter": {
   "hash": "9e6fe232ec1802e04813a62eadbd4a033db6fcefdd78d84705bbb38e45fcef4a"
  }
 },
 "nbformat": 4,
 "nbformat_minor": 2
}