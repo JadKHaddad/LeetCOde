{
    "cells": [
        {
            "cell_type": "code",
            "execution_count": 1,
            "source": [],
            "outputs": [],
            "metadata": {}
        },
        {
            "cell_type": "code",
            "execution_count": 5,
            "source": [
                "class Solution:\r\n",
                "    def removeElement(self, nums: List[int], val: int) -> int:\r\n",
                "        i = 0\r\n",
                "        while i < len(nums):\r\n",
                "            if nums[i] == val:\r\n",
                "                del nums[i]\r\n",
                "                continue\r\n",
                "            i = i + 1"
            ],
            "outputs": [],
            "metadata": {}
        },
        {
            "cell_type": "code",
            "execution_count": 6,
            "source": [
                "nums = [3,2,2,3]\r\n",
                "val = 3\r\n",
                "Solution().removeElement(nums, val)\r\n",
                "print(nums)"
            ],
            "outputs": [
                {
                    "output_type": "stream",
                    "name": "stdout",
                    "text": [
                        "[2, 2]\n"
                    ]
                }
            ],
            "metadata": {}
        }
    ],
    "metadata": {
        "orig_nbformat": 4,
        "language_info": {
            "name": "python",
            "version": "3.9.6",
            "mimetype": "text/x-python",
            "codemirror_mode": {
                "name": "ipython",
                "version": 3
            },
            "pygments_lexer": "ipython3",
            "nbconvert_exporter": "python",
            "file_extension": ".py"
        },
        "kernelspec": {
            "name": "python3",
            "display_name": "Python 3.9.6 64-bit"
        },
        "interpreter": {
            "hash": "9e6fe232ec1802e04813a62eadbd4a033db6fcefdd78d84705bbb38e45fcef4a"
        }
    },
    "nbformat": 4,
    "nbformat_minor": 2
}