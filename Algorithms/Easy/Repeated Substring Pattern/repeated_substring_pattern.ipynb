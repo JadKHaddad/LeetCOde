{
 "cells": [
  {
   "cell_type": "code",
   "execution_count": 81,
   "source": [
    "class Solution:\r\n",
    "    def repeatedSubstringPattern(self, s: str) -> bool:\r\n",
    "        if len(s) < 2:\r\n",
    "            return False\r\n",
    "        if len(s) == 2:\r\n",
    "            if s[0] == s[1]:\r\n",
    "                return True\r\n",
    "        for i in range(2, len(s) + 1):\r\n",
    "            if(int(len(s)/i) * i != len(s)):\r\n",
    "                continue\r\n",
    "            found = True\r\n",
    "            s1 = s[:int(len(s)/i)]\r\n",
    "            for k in range(1, i):\r\n",
    "                s2 = s[int(len(s)/i) * k: int(len(s)/i) * k + int(len(s)/i)]\r\n",
    "                if(s1 != s2):\r\n",
    "                    found = False\r\n",
    "                    break\r\n",
    "            if found:\r\n",
    "                return True            \r\n",
    "        return False\r\n"
   ],
   "outputs": [],
   "metadata": {}
  },
  {
   "cell_type": "code",
   "execution_count": 82,
   "source": [
    "s = \"zzzssszzzsssy\"\r\n",
    "print(Solution().repeatedSubstringPattern(s))"
   ],
   "outputs": [
    {
     "output_type": "stream",
     "name": "stdout",
     "text": [
      "False\n"
     ]
    }
   ],
   "metadata": {}
  }
 ],
 "metadata": {
  "orig_nbformat": 4,
  "language_info": {
   "name": "python",
   "version": "3.9.7",
   "mimetype": "text/x-python",
   "codemirror_mode": {
    "name": "ipython",
    "version": 3
   },
   "pygments_lexer": "ipython3",
   "nbconvert_exporter": "python",
   "file_extension": ".py"
  },
  "kernelspec": {
   "name": "python3",
   "display_name": "Python 3.9.7 64-bit"
  },
  "interpreter": {
   "hash": "ac59ebe37160ed0dfa835113d9b8498d9f09ceb179beaac4002f036b9467c963"
  }
 },
 "nbformat": 4,
 "nbformat_minor": 2
}