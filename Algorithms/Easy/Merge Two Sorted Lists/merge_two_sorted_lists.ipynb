{
    "cells": [
        {
            "cell_type": "code",
            "execution_count": 1,
            "source": [
                "from typing import Optional\r\n",
                "\r\n",
                "class ListNode:\r\n",
                "    def __init__(self, val=0, next=None):\r\n",
                "        self.val = val\r\n",
                "        self.next = next\r\n",
                "\r\n",
                "def show(l1: Optional[ListNode]):\r\n",
                "    while l1:\r\n",
                "        print(l1.val)\r\n",
                "        l1 = l1.next"
            ],
            "outputs": [],
            "metadata": {}
        },
        {
            "cell_type": "code",
            "execution_count": 2,
            "source": [
                "class Solution:\r\n",
                "    def mergeTwoLists(self, l1: Optional[ListNode], l2: Optional[ListNode]) -> Optional[ListNode]:\r\n",
                "        if not l1:\r\n",
                "            return l2\r\n",
                "        if not l2:\r\n",
                "            return l1\r\n",
                "        dict = {}\r\n",
                "        while l1:\r\n",
                "            if not l1.val in dict:\r\n",
                "                dict[l1.val] = 1\r\n",
                "            else:\r\n",
                "                dict[l1.val] = dict[l1.val] + 1\r\n",
                "            l1 = l1.next\r\n",
                "        while l2:\r\n",
                "            if not l2.val in dict:\r\n",
                "                dict[l2.val] = 1\r\n",
                "            else:\r\n",
                "                dict[l2.val] = dict[l2.val] + 1\r\n",
                "            l2 = l2.next\r\n",
                "        list = sorted(dict.items())\r\n",
                "        l = ListNode()\r\n",
                "        c = l\r\n",
                "        for i in range(0,len(list)):\r\n",
                "            for j in range(0,list[i][1]):\r\n",
                "                l.val = list[i][0]\r\n",
                "                if i == len(list) - 1 and j == list[i][1] - 1:\r\n",
                "                    return c\r\n",
                "                l.next = ListNode()\r\n",
                "                l = l.next  \r\n",
                "        return c"
            ],
            "outputs": [],
            "metadata": {}
        },
        {
            "cell_type": "code",
            "execution_count": 3,
            "source": [
                "show(Solution().mergeTwoLists(ListNode(-10,ListNode(-10,ListNode(-9,ListNode(-4,ListNode(1,ListNode(6,ListNode(6))))))),ListNode(-7)))"
            ],
            "outputs": [
                {
                    "output_type": "stream",
                    "name": "stdout",
                    "text": [
                        "-10\n",
                        "-10\n",
                        "-9\n",
                        "-7\n",
                        "-4\n",
                        "1\n",
                        "6\n",
                        "6\n"
                    ]
                }
            ],
            "metadata": {}
        }
    ],
    "metadata": {
        "orig_nbformat": 4,
        "language_info": {
            "name": "python",
            "version": "3.9.6",
            "mimetype": "text/x-python",
            "codemirror_mode": {
                "name": "ipython",
                "version": 3
            },
            "pygments_lexer": "ipython3",
            "nbconvert_exporter": "python",
            "file_extension": ".py"
        },
        "kernelspec": {
            "name": "python3",
            "display_name": "Python 3.9.6 64-bit"
        },
        "interpreter": {
            "hash": "9e6fe232ec1802e04813a62eadbd4a033db6fcefdd78d84705bbb38e45fcef4a"
        }
    },
    "nbformat": 4,
    "nbformat_minor": 2
}