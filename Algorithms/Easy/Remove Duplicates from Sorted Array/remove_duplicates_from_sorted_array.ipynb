{
    "cells": [
        {
            "cell_type": "code",
            "execution_count": 2,
            "source": [
                "from typing import List"
            ],
            "outputs": [],
            "metadata": {}
        },
        {
            "cell_type": "code",
            "execution_count": 12,
            "source": [
                "class Solution:\r\n",
                "    def removeDuplicates(self, nums: List[int]) -> int:\r\n",
                "        dict = {}\r\n",
                "        i = 0\r\n",
                "        while True:\r\n",
                "            if i >= len(nums):\r\n",
                "                return i\r\n",
                "            if not nums[i] in dict:\r\n",
                "                dict[nums[i]] = 0\r\n",
                "                i = i + 1\r\n",
                "                continue\r\n",
                "            del nums[i]\r\n",
                "\r\n",
                "    def removeDuplicates_(self, nums: List[int]) -> int:\r\n",
                "        if len(nums) < 1:\r\n",
                "            return 0\r\n",
                "        i = 1\r\n",
                "        while True:\r\n",
                "            if i >= len(nums):\r\n",
                "                return i\r\n",
                "            if nums[i] == nums[i - 1]:\r\n",
                "                del nums[i]\r\n",
                "                continue\r\n",
                "            i = i + 1\r\n",
                "            "
            ],
            "outputs": [],
            "metadata": {}
        },
        {
            "cell_type": "code",
            "execution_count": 15,
            "source": [
                "nums = [0,0,1,1,1,2,2,3,3,4]\r\n",
                "print(Solution().removeDuplicates(nums))\r\n",
                "print(nums)"
            ],
            "outputs": [
                {
                    "output_type": "stream",
                    "name": "stdout",
                    "text": [
                        "5\n",
                        "[0, 1, 2, 3, 4]\n"
                    ]
                }
            ],
            "metadata": {}
        }
    ],
    "metadata": {
        "orig_nbformat": 4,
        "language_info": {
            "name": "python",
            "version": "3.9.6",
            "mimetype": "text/x-python",
            "codemirror_mode": {
                "name": "ipython",
                "version": 3
            },
            "pygments_lexer": "ipython3",
            "nbconvert_exporter": "python",
            "file_extension": ".py"
        },
        "kernelspec": {
            "name": "python3",
            "display_name": "Python 3.9.6 64-bit"
        },
        "interpreter": {
            "hash": "9e6fe232ec1802e04813a62eadbd4a033db6fcefdd78d84705bbb38e45fcef4a"
        }
    },
    "nbformat": 4,
    "nbformat_minor": 2
}