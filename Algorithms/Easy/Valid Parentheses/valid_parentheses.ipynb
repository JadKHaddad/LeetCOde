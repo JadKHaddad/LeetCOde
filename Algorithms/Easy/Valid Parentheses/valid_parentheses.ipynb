{
    "cells": [
        {
            "cell_type": "code",
            "execution_count": 30,
            "source": [
                "class Solution:\r\n",
                "    def isValid(self, s: str) -> bool:\r\n",
                "        if len(s) % 2 != 0:\r\n",
                "            return False\r\n",
                "        stack = []\r\n",
                "        for i in range(0, len(s)):\r\n",
                "            if s[i] == '(' or s[i] == '[' or s[i] == '{':\r\n",
                "                stack.append(s[i])\r\n",
                "                continue\r\n",
                "            if s[i] == ')':\r\n",
                "                if len(stack) == 0:\r\n",
                "                    return False\r\n",
                "                if stack.pop() != '(':\r\n",
                "                    return False\r\n",
                "                continue\r\n",
                "            if s[i] == '}':\r\n",
                "                if len(stack) == 0:\r\n",
                "                    return False\r\n",
                "                if stack.pop() != '{':\r\n",
                "                    return False\r\n",
                "                continue\r\n",
                "            if s[i] == ']':\r\n",
                "                if len(stack) == 0:\r\n",
                "                    return False\r\n",
                "                if stack.pop() != '[':\r\n",
                "                    return False\r\n",
                "                continue\r\n",
                "        if len(stack) == 0:\r\n",
                "            return True\r\n",
                "        return False"
            ],
            "outputs": [],
            "metadata": {}
        },
        {
            "cell_type": "code",
            "execution_count": 31,
            "source": [
                "print(Solution().isValid('}}'))"
            ],
            "outputs": [
                {
                    "output_type": "stream",
                    "name": "stdout",
                    "text": [
                        "False\n"
                    ]
                }
            ],
            "metadata": {}
        }
    ],
    "metadata": {
        "orig_nbformat": 4,
        "language_info": {
            "name": "python",
            "version": "3.9.6",
            "mimetype": "text/x-python",
            "codemirror_mode": {
                "name": "ipython",
                "version": 3
            },
            "pygments_lexer": "ipython3",
            "nbconvert_exporter": "python",
            "file_extension": ".py"
        },
        "kernelspec": {
            "name": "python3",
            "display_name": "Python 3.9.6 64-bit"
        },
        "interpreter": {
            "hash": "9e6fe232ec1802e04813a62eadbd4a033db6fcefdd78d84705bbb38e45fcef4a"
        }
    },
    "nbformat": 4,
    "nbformat_minor": 2
}