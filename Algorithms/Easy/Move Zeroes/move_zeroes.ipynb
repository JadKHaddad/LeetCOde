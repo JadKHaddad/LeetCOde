{
    "cells": [
        {
            "cell_type": "code",
            "execution_count": 1,
            "source": [
                "from typing import List"
            ],
            "outputs": [],
            "metadata": {}
        },
        {
            "cell_type": "code",
            "execution_count": 4,
            "source": [
                "class Solution:\r\n",
                "    def moveZeroes(self, nums: List[int]) -> None:\r\n",
                "        i = 0\r\n",
                "        l = len(nums)\r\n",
                "        while i < l:\r\n",
                "            if nums[i] == 0:\r\n",
                "                del nums[i]\r\n",
                "                nums.append(0)\r\n",
                "                l = l - 1\r\n",
                "                continue\r\n",
                "            i = i + 1"
            ],
            "outputs": [
                {
                    "output_type": "stream",
                    "name": "stdout",
                    "text": [
                        "[1, 3, 12, 0, 0]\n"
                    ]
                }
            ],
            "metadata": {}
        },
        {
            "cell_type": "code",
            "execution_count": null,
            "source": [
                "nums = [0,1,0,3,12]\r\n",
                "Solution().moveZeroes(nums)\r\n",
                "print(nums)"
            ],
            "outputs": [],
            "metadata": {}
        }
    ],
    "metadata": {
        "orig_nbformat": 4,
        "language_info": {
            "name": "python",
            "version": "3.9.6",
            "mimetype": "text/x-python",
            "codemirror_mode": {
                "name": "ipython",
                "version": 3
            },
            "pygments_lexer": "ipython3",
            "nbconvert_exporter": "python",
            "file_extension": ".py"
        },
        "kernelspec": {
            "name": "python3",
            "display_name": "Python 3.9.6 64-bit"
        },
        "interpreter": {
            "hash": "9e6fe232ec1802e04813a62eadbd4a033db6fcefdd78d84705bbb38e45fcef4a"
        }
    },
    "nbformat": 4,
    "nbformat_minor": 2
}