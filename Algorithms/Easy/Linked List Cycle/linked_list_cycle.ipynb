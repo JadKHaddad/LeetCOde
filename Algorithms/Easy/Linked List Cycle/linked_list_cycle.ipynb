{
 "cells": [
  {
   "cell_type": "code",
   "execution_count": 6,
   "source": [
    "from typing import Optional\r\n",
    "class ListNode:\r\n",
    "    def __init__(self, val=0, next=None):\r\n",
    "        self.val = val\r\n",
    "        self.next = next\r\n",
    "\r\n",
    "def show(l1: Optional[ListNode]):\r\n",
    "    while l1:\r\n",
    "        print(l1.val)\r\n",
    "        l1 = l1.next"
   ],
   "outputs": [],
   "metadata": {}
  },
  {
   "cell_type": "code",
   "execution_count": 7,
   "source": [
    "class Solution:\r\n",
    "    def hasCycle(self, head: ListNode) -> bool:\r\n",
    "        dict = {}\r\n",
    "        while head:\r\n",
    "            if head in dict:\r\n",
    "                return True\r\n",
    "            dict[head] = 1\r\n",
    "            head = head.next\r\n",
    "        return False"
   ],
   "outputs": [],
   "metadata": {}
  },
  {
   "cell_type": "code",
   "execution_count": 8,
   "source": [
    "head = ListNode(3)\r\n",
    "l2 = ListNode(2)\r\n",
    "l3 = ListNode(0)\r\n",
    "l4 = ListNode(-4)\r\n",
    "\r\n",
    "l2.next = l3\r\n",
    "l3.next = l4\r\n",
    "l4.next = l2\r\n",
    "head.next = l2\r\n",
    "\r\n",
    "print(Solution().hasCycle(head))"
   ],
   "outputs": [
    {
     "output_type": "stream",
     "name": "stdout",
     "text": [
      "True\n"
     ]
    }
   ],
   "metadata": {}
  }
 ],
 "metadata": {
  "orig_nbformat": 4,
  "language_info": {
   "name": "python",
   "version": "3.9.6",
   "mimetype": "text/x-python",
   "codemirror_mode": {
    "name": "ipython",
    "version": 3
   },
   "pygments_lexer": "ipython3",
   "nbconvert_exporter": "python",
   "file_extension": ".py"
  },
  "kernelspec": {
   "name": "python3",
   "display_name": "Python 3.9.6 64-bit"
  },
  "interpreter": {
   "hash": "9e6fe232ec1802e04813a62eadbd4a033db6fcefdd78d84705bbb38e45fcef4a"
  }
 },
 "nbformat": 4,
 "nbformat_minor": 2
}