{
 "cells": [
  {
   "cell_type": "code",
   "execution_count": 21,
   "source": [
    "from typing import List"
   ],
   "outputs": [],
   "metadata": {}
  },
  {
   "cell_type": "code",
   "execution_count": 22,
   "source": [
    "class Solution:\r\n",
    "    def plusOne(self, digits: List[int]) -> List[int]:\r\n",
    "        for i in range(1, len(digits) + 1):\r\n",
    "            digits[-i] = digits[-i] + 1\r\n",
    "            if digits[-i] < 10:\r\n",
    "                break\r\n",
    "            digits[-i] = 0\r\n",
    "            if i == len(digits):\r\n",
    "                digits.insert(0, 1)\r\n",
    "        return digits"
   ],
   "outputs": [],
   "metadata": {}
  },
  {
   "cell_type": "code",
   "execution_count": 23,
   "source": [
    "digits = [9,8,9,9]\r\n",
    "print(Solution().plusOne(digits))"
   ],
   "outputs": [
    {
     "output_type": "stream",
     "name": "stdout",
     "text": [
      "[9, 9, 0, 0]\n"
     ]
    }
   ],
   "metadata": {}
  }
 ],
 "metadata": {
  "orig_nbformat": 4,
  "language_info": {
   "name": "python",
   "version": "3.9.6",
   "mimetype": "text/x-python",
   "codemirror_mode": {
    "name": "ipython",
    "version": 3
   },
   "pygments_lexer": "ipython3",
   "nbconvert_exporter": "python",
   "file_extension": ".py"
  },
  "kernelspec": {
   "name": "python3",
   "display_name": "Python 3.9.6 64-bit"
  },
  "interpreter": {
   "hash": "9e6fe232ec1802e04813a62eadbd4a033db6fcefdd78d84705bbb38e45fcef4a"
  }
 },
 "nbformat": 4,
 "nbformat_minor": 2
}