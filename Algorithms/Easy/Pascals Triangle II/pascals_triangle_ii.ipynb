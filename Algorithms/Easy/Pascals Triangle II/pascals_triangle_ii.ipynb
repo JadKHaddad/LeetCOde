{
 "cells": [
  {
   "cell_type": "code",
   "execution_count": 13,
   "source": [
    "from typing import List"
   ],
   "outputs": [],
   "metadata": {}
  },
  {
   "cell_type": "code",
   "execution_count": 14,
   "source": [
    "class Solution:\r\n",
    "    def getRow(self, rowIndex: int) -> List[int]:\r\n",
    "        build = []\r\n",
    "        if rowIndex < 0:\r\n",
    "            return []\r\n",
    "        build.append([1])\r\n",
    "        if rowIndex < 1:\r\n",
    "            return build[0]\r\n",
    "        build.append([1,1])\r\n",
    "        if rowIndex < 2:\r\n",
    "            return build[1]\r\n",
    "        for i in range(2, rowIndex + 1):\r\n",
    "            to_append = []\r\n",
    "            to_append.append(1)\r\n",
    "            for j in range(1, len(build[i-1])):\r\n",
    "                to_append.append(build[i-1][j-1] + build[i-1][j])\r\n",
    "            to_append.append(1)\r\n",
    "            build.append(to_append)\r\n",
    "        return to_append"
   ],
   "outputs": [],
   "metadata": {}
  },
  {
   "cell_type": "code",
   "execution_count": 15,
   "source": [
    "rowIndex = 4\r\n",
    "print(Solution().getRow(rowIndex))"
   ],
   "outputs": [
    {
     "output_type": "stream",
     "name": "stdout",
     "text": [
      "[1, 4, 6, 4, 1]\n"
     ]
    }
   ],
   "metadata": {}
  }
 ],
 "metadata": {
  "orig_nbformat": 4,
  "language_info": {
   "name": "python",
   "version": "3.9.6",
   "mimetype": "text/x-python",
   "codemirror_mode": {
    "name": "ipython",
    "version": 3
   },
   "pygments_lexer": "ipython3",
   "nbconvert_exporter": "python",
   "file_extension": ".py"
  },
  "kernelspec": {
   "name": "python3",
   "display_name": "Python 3.9.6 64-bit"
  },
  "interpreter": {
   "hash": "9e6fe232ec1802e04813a62eadbd4a033db6fcefdd78d84705bbb38e45fcef4a"
  }
 },
 "nbformat": 4,
 "nbformat_minor": 2
}