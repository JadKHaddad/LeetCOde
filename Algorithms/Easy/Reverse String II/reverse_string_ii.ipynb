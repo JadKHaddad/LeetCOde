{
 "cells": [
  {
   "cell_type": "code",
   "execution_count": 10,
   "source": [
    "class Solution:\r\n",
    "    def reverseStr(self, s: str, k: int) -> str:\r\n",
    "        if k < 1:\r\n",
    "            return s\r\n",
    "        s_return = \"\"\r\n",
    "        i = 0\r\n",
    "        while i < len(s):\r\n",
    "            j = i + k - 1\r\n",
    "            while not j < i:\r\n",
    "                if j < len(s):\r\n",
    "                    s_return = s_return + s[j]\r\n",
    "                j = j - 1\r\n",
    "            for o in range(i + k, i + 2*k):\r\n",
    "                if not o < len(s):\r\n",
    "                    break\r\n",
    "                s_return = s_return + s[o]\r\n",
    "            i = i + 2 * k\r\n",
    "        return s_return"
   ],
   "outputs": [],
   "metadata": {}
  },
  {
   "cell_type": "code",
   "execution_count": 11,
   "source": [
    "s = \"abcdefg\"\r\n",
    "k = 8\r\n",
    "print(Solution().reverseStr(s, k))"
   ],
   "outputs": [
    {
     "output_type": "stream",
     "name": "stdout",
     "text": [
      "gfedcba\n"
     ]
    }
   ],
   "metadata": {}
  }
 ],
 "metadata": {
  "orig_nbformat": 4,
  "language_info": {
   "name": "python",
   "version": "3.9.6",
   "mimetype": "text/x-python",
   "codemirror_mode": {
    "name": "ipython",
    "version": 3
   },
   "pygments_lexer": "ipython3",
   "nbconvert_exporter": "python",
   "file_extension": ".py"
  },
  "kernelspec": {
   "name": "python3",
   "display_name": "Python 3.9.6 64-bit"
  },
  "interpreter": {
   "hash": "9e6fe232ec1802e04813a62eadbd4a033db6fcefdd78d84705bbb38e45fcef4a"
  }
 },
 "nbformat": 4,
 "nbformat_minor": 2
}