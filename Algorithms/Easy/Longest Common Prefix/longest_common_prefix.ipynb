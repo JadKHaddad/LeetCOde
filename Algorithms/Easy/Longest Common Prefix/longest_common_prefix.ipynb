{
    "cells": [
        {
            "cell_type": "code",
            "execution_count": 54,
            "source": [
                "from typing import List"
            ],
            "outputs": [],
            "metadata": {}
        },
        {
            "cell_type": "code",
            "execution_count": 59,
            "source": [
                "class Solution:\r\n",
                "    def longestCommonPrefix(self, strs: List[str]) -> str:\r\n",
                "        if len(strs) < 1:\r\n",
                "            return ''\r\n",
                "        if len(strs) < 2:\r\n",
                "            return strs[0]\r\n",
                "        lcp = ''\r\n",
                "        for i in range(0, len(strs[0])):\r\n",
                "            for j in range(1, len(strs)):\r\n",
                "                if not len(strs[j]) > i:\r\n",
                "                    return lcp\r\n",
                "                if strs[j][i] != strs[0][i]:\r\n",
                "                    return lcp\r\n",
                "            lcp = lcp + strs[0][i]\r\n",
                "        return lcp"
            ],
            "outputs": [],
            "metadata": {}
        },
        {
            "cell_type": "code",
            "execution_count": 56,
            "source": [
                "strs = [\"flower\",\"flow\",\"flight\"]\r\n",
                "print(Solution().longestCommonPrefix(strs=strs))"
            ],
            "outputs": [
                {
                    "output_type": "stream",
                    "name": "stdout",
                    "text": [
                        "fl\n"
                    ]
                }
            ],
            "metadata": {}
        }
    ],
    "metadata": {
        "orig_nbformat": 4,
        "language_info": {
            "name": "python",
            "version": "3.9.6",
            "mimetype": "text/x-python",
            "codemirror_mode": {
                "name": "ipython",
                "version": 3
            },
            "pygments_lexer": "ipython3",
            "nbconvert_exporter": "python",
            "file_extension": ".py"
        },
        "kernelspec": {
            "name": "python3",
            "display_name": "Python 3.9.6 64-bit"
        },
        "interpreter": {
            "hash": "9e6fe232ec1802e04813a62eadbd4a033db6fcefdd78d84705bbb38e45fcef4a"
        }
    },
    "nbformat": 4,
    "nbformat_minor": 2
}