{
 "cells": [
  {
   "cell_type": "code",
   "execution_count": 13,
   "source": [
    "from typing import List"
   ],
   "outputs": [],
   "metadata": {}
  },
  {
   "cell_type": "code",
   "execution_count": 14,
   "source": [
    "class Solution:\r\n",
    "    def searchInsert(self, nums: List[int], target: int) -> int:\r\n",
    "        if target <= nums[0]:\r\n",
    "            return 0\r\n",
    "        if target > nums[-1]:\r\n",
    "            return len(nums)\r\n",
    "        if target < nums[int(len(nums)/2)]:\r\n",
    "            return self.searchInsert(nums[:int(len(nums)/2)], target)\r\n",
    "        return int(len(nums)/2) + self.searchInsert(nums[int(len(nums)/2):], target)"
   ],
   "outputs": [],
   "metadata": {}
  },
  {
   "cell_type": "code",
   "execution_count": 15,
   "source": [
    "nums = [1,3]\r\n",
    "target = 0\r\n",
    "print(Solution().searchInsert(nums, target))"
   ],
   "outputs": [
    {
     "output_type": "stream",
     "name": "stdout",
     "text": [
      "0\n"
     ]
    }
   ],
   "metadata": {}
  }
 ],
 "metadata": {
  "orig_nbformat": 4,
  "language_info": {
   "name": "python",
   "version": "3.9.6",
   "mimetype": "text/x-python",
   "codemirror_mode": {
    "name": "ipython",
    "version": 3
   },
   "pygments_lexer": "ipython3",
   "nbconvert_exporter": "python",
   "file_extension": ".py"
  },
  "kernelspec": {
   "name": "python3",
   "display_name": "Python 3.9.6 64-bit"
  },
  "interpreter": {
   "hash": "9e6fe232ec1802e04813a62eadbd4a033db6fcefdd78d84705bbb38e45fcef4a"
  }
 },
 "nbformat": 4,
 "nbformat_minor": 2
}