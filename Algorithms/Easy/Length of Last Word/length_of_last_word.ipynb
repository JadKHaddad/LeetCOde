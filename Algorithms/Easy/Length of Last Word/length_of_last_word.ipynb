{
 "cells": [
  {
   "cell_type": "code",
   "execution_count": 21,
   "source": [
    "class Solution:\r\n",
    "    def lengthOfLastWord(self, s: str) -> int:\r\n",
    "        l = 0\r\n",
    "        f = False\r\n",
    "        for i in range(1, len(s) + 1):\r\n",
    "            if s[-i] == \" \":\r\n",
    "                if f:\r\n",
    "                    return l\r\n",
    "                continue\r\n",
    "            if not f:\r\n",
    "                f = True\r\n",
    "            l = l + 1\r\n",
    "        return l"
   ],
   "outputs": [],
   "metadata": {}
  },
  {
   "cell_type": "code",
   "execution_count": 22,
   "source": [
    "s = \"asdasd themoon     \"\r\n",
    "print(Solution().lengthOfLastWord(s))"
   ],
   "outputs": [
    {
     "output_type": "stream",
     "name": "stdout",
     "text": [
      "7\n"
     ]
    }
   ],
   "metadata": {}
  }
 ],
 "metadata": {
  "orig_nbformat": 4,
  "language_info": {
   "name": "python",
   "version": "3.9.6",
   "mimetype": "text/x-python",
   "codemirror_mode": {
    "name": "ipython",
    "version": 3
   },
   "pygments_lexer": "ipython3",
   "nbconvert_exporter": "python",
   "file_extension": ".py"
  },
  "kernelspec": {
   "name": "python3",
   "display_name": "Python 3.9.6 64-bit"
  },
  "interpreter": {
   "hash": "9e6fe232ec1802e04813a62eadbd4a033db6fcefdd78d84705bbb38e45fcef4a"
  }
 },
 "nbformat": 4,
 "nbformat_minor": 2
}