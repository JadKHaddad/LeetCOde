{
 "cells": [
  {
   "cell_type": "code",
   "execution_count": 4,
   "source": [
    "class Solution:\r\n",
    "    def checkRecord(self, s: str) -> bool:\r\n",
    "        absent_count = 0\r\n",
    "        for i in range(0, len(s)):\r\n",
    "            if s[i] == 'A':\r\n",
    "                absent_count = absent_count + 1\r\n",
    "                if absent_count > 1:\r\n",
    "                    return False\r\n",
    "                continue\r\n",
    "            if s[i] == 'L' and i + 2 < len(s):\r\n",
    "                if s[i + 1] == 'L' and s[i + 2] == 'L':\r\n",
    "                    return False\r\n",
    "        return True"
   ],
   "outputs": [],
   "metadata": {}
  },
  {
   "cell_type": "code",
   "execution_count": 5,
   "source": [
    "s = \"PPALLL\"\r\n",
    "print(Solution().checkRecord(s))"
   ],
   "outputs": [
    {
     "output_type": "stream",
     "name": "stdout",
     "text": [
      "False\n"
     ]
    }
   ],
   "metadata": {}
  }
 ],
 "metadata": {
  "orig_nbformat": 4,
  "language_info": {
   "name": "python",
   "version": "3.9.6",
   "mimetype": "text/x-python",
   "codemirror_mode": {
    "name": "ipython",
    "version": 3
   },
   "pygments_lexer": "ipython3",
   "nbconvert_exporter": "python",
   "file_extension": ".py"
  },
  "kernelspec": {
   "name": "python3",
   "display_name": "Python 3.9.6 64-bit"
  },
  "interpreter": {
   "hash": "9e6fe232ec1802e04813a62eadbd4a033db6fcefdd78d84705bbb38e45fcef4a"
  }
 },
 "nbformat": 4,
 "nbformat_minor": 2
}