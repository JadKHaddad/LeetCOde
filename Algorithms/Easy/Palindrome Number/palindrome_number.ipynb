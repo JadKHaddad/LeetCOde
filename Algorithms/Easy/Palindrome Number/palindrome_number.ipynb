{
    "cells": [
        {
            "cell_type": "code",
            "execution_count": 48,
            "source": [
                "class Solution:\r\n",
                "    def isPalindrome(self, x: int) -> bool:\r\n",
                "        if x < 0:\r\n",
                "            return False\r\n",
                "        if x < 10:\r\n",
                "            return True\r\n",
                "        if x < 100:\r\n",
                "            if x % 11 == 0:\r\n",
                "                return True\r\n",
                "            return False\r\n",
                "        st = str(x)\r\n",
                "        for i in range(0, len(st)):\r\n",
                "            if st[i] != st[-1 -i]:\r\n",
                "                return False\r\n",
                "            if i == int(len(st) / 2):\r\n",
                "                return True"
            ],
            "outputs": [],
            "metadata": {}
        },
        {
            "cell_type": "code",
            "execution_count": 50,
            "source": [
                "\r\n",
                "print(Solution().isPalindrome(-121101))"
            ],
            "outputs": [
                {
                    "output_type": "stream",
                    "name": "stdout",
                    "text": [
                        "False\n"
                    ]
                }
            ],
            "metadata": {}
        }
    ],
    "metadata": {
        "orig_nbformat": 4,
        "language_info": {
            "name": "python",
            "version": "3.9.6",
            "mimetype": "text/x-python",
            "codemirror_mode": {
                "name": "ipython",
                "version": 3
            },
            "pygments_lexer": "ipython3",
            "nbconvert_exporter": "python",
            "file_extension": ".py"
        },
        "kernelspec": {
            "name": "python3",
            "display_name": "Python 3.9.6 64-bit"
        },
        "interpreter": {
            "hash": "9e6fe232ec1802e04813a62eadbd4a033db6fcefdd78d84705bbb38e45fcef4a"
        }
    },
    "nbformat": 4,
    "nbformat_minor": 2
}