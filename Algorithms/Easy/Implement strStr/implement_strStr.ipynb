{
 "cells": [
  {
   "cell_type": "code",
   "execution_count": 56,
   "source": [
    "class Solution:\r\n",
    "    def strStr(self, haystack: str, needle: str) -> int:\r\n",
    "        if len(needle) == 0:\r\n",
    "            return 0\r\n",
    "        if len(needle) > len(haystack):\r\n",
    "            return -1\r\n",
    "        index = -1\r\n",
    "        for i in range(0, len(haystack)):\r\n",
    "            if haystack[i] == needle[0]:\r\n",
    "                if len(needle) > len(haystack) - i:\r\n",
    "                    return -1\r\n",
    "                if needle[-1] != haystack[i + len(needle) - 1]:\r\n",
    "                    continue\r\n",
    "                index = i\r\n",
    "                for j in range(1, len(needle)):\r\n",
    "                    if haystack[i + j] != needle[j]:\r\n",
    "                        index = -1\r\n",
    "            if index != -1:\r\n",
    "                return index\r\n",
    "        return index"
   ],
   "outputs": [],
   "metadata": {}
  },
  {
   "cell_type": "code",
   "execution_count": 57,
   "source": [
    "haystack = \"hello212qaeqweqweqwello21wweqwqr\"\r\n",
    "needle = \"llo21w\"\r\n",
    "print(Solution().strStr(haystack, needle))"
   ],
   "outputs": [
    {
     "output_type": "stream",
     "name": "stdout",
     "text": [
      "20\n"
     ]
    }
   ],
   "metadata": {}
  }
 ],
 "metadata": {
  "orig_nbformat": 4,
  "language_info": {
   "name": "python",
   "version": "3.9.7",
   "mimetype": "text/x-python",
   "codemirror_mode": {
    "name": "ipython",
    "version": 3
   },
   "pygments_lexer": "ipython3",
   "nbconvert_exporter": "python",
   "file_extension": ".py"
  },
  "kernelspec": {
   "name": "python3",
   "display_name": "Python 3.9.7 64-bit"
  },
  "interpreter": {
   "hash": "ac59ebe37160ed0dfa835113d9b8498d9f09ceb179beaac4002f036b9467c963"
  }
 },
 "nbformat": 4,
 "nbformat_minor": 2
}