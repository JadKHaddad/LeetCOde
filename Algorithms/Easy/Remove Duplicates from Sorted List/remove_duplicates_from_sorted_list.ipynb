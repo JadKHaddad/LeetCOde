{
 "cells": [
  {
   "cell_type": "code",
   "execution_count": 35,
   "source": [
    "from typing import Optional\r\n",
    "class ListNode:\r\n",
    "    def __init__(self, val=0, next=None):\r\n",
    "        self.val = val\r\n",
    "        self.next = next\r\n",
    "\r\n",
    "def show(l1: Optional[ListNode]):\r\n",
    "    while l1:\r\n",
    "        print(l1.val)\r\n",
    "        l1 = l1.next"
   ],
   "outputs": [],
   "metadata": {}
  },
  {
   "cell_type": "code",
   "execution_count": 36,
   "source": [
    "class Solution:\r\n",
    "    def deleteDuplicates(self, head: Optional[ListNode]) -> Optional[ListNode]:\r\n",
    "        if not head:\r\n",
    "            return head\r\n",
    "        c = head\r\n",
    "        while head.next:\r\n",
    "            if head.val == head.next.val:\r\n",
    "                if not head.next.next:\r\n",
    "                    head.next = None\r\n",
    "                    break\r\n",
    "                head.next = head.next.next\r\n",
    "                continue\r\n",
    "            head = head.next\r\n",
    "        return c"
   ],
   "outputs": [],
   "metadata": {}
  },
  {
   "cell_type": "code",
   "execution_count": 38,
   "source": [
    "head = ListNode(1,ListNode(1,ListNode(2,ListNode(3,ListNode(3)))))\r\n",
    "head = Solution().deleteDuplicates(head)\r\n",
    "show(head)"
   ],
   "outputs": [
    {
     "output_type": "stream",
     "name": "stdout",
     "text": [
      "1\n",
      "2\n",
      "3\n"
     ]
    }
   ],
   "metadata": {}
  }
 ],
 "metadata": {
  "orig_nbformat": 4,
  "language_info": {
   "name": "python",
   "version": "3.9.6",
   "mimetype": "text/x-python",
   "codemirror_mode": {
    "name": "ipython",
    "version": 3
   },
   "pygments_lexer": "ipython3",
   "nbconvert_exporter": "python",
   "file_extension": ".py"
  },
  "kernelspec": {
   "name": "python3",
   "display_name": "Python 3.9.6 64-bit"
  },
  "interpreter": {
   "hash": "9e6fe232ec1802e04813a62eadbd4a033db6fcefdd78d84705bbb38e45fcef4a"
  }
 },
 "nbformat": 4,
 "nbformat_minor": 2
}