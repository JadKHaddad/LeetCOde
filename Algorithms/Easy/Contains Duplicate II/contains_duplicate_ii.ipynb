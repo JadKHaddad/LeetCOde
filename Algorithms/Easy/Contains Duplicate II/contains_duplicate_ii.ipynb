{
 "cells": [
  {
   "cell_type": "code",
   "execution_count": 2,
   "source": [
    "from typing import List"
   ],
   "outputs": [],
   "metadata": {}
  },
  {
   "cell_type": "code",
   "execution_count": 87,
   "source": [
    "class Solution:\r\n",
    "    def containsDuplicate(self, nums: List[int]) -> bool:\r\n",
    "        if len(nums) < 2:\r\n",
    "            return False\r\n",
    "        dict = {}\r\n",
    "        for i in range(0, len(nums)):\r\n",
    "            if nums[i] in dict:\r\n",
    "                return True\r\n",
    "            dict[nums[i]] = 1\r\n",
    "        return False\r\n",
    "\r\n",
    "    def containsNearbyDuplicate(self, nums: List[int], k: int) -> bool:\r\n",
    "        if len(nums) < 2:\r\n",
    "            return False\r\n",
    "        if not len(nums) > k + 1:\r\n",
    "            return self.containsDuplicate(nums)\r\n",
    "        dict = {}\r\n",
    "        for i in range(0, k + 1):\r\n",
    "            if nums[i] in dict:\r\n",
    "                return True\r\n",
    "            dict[nums[i]] = 1\r\n",
    "\r\n",
    "        for i in range(0, len(nums)):\r\n",
    "            if not i + k + 1 < len(nums):\r\n",
    "                return False\r\n",
    "            dict[nums[i]] = dict[nums[i]] - 1\r\n",
    "            if nums[i + k + 1] in dict:\r\n",
    "                if not dict[nums[i + k + 1]] == 0:\r\n",
    "                    return True\r\n",
    "                dict[nums[i + k + 1]] = dict[nums[i + k + 1]] + 1\r\n",
    "            else:\r\n",
    "                dict[nums[i + k + 1]] = 1\r\n",
    "        return False"
   ],
   "outputs": [
    {
     "output_type": "stream",
     "name": "stdout",
     "text": [
      "False\n"
     ]
    }
   ],
   "metadata": {}
  },
  {
   "cell_type": "code",
   "execution_count": null,
   "source": [
    "nums = [1,2,3,1,2,3]\r\n",
    "k = 2\r\n",
    "print(Solution().containsNearbyDuplicate(nums, k))"
   ],
   "outputs": [],
   "metadata": {}
  }
 ],
 "metadata": {
  "orig_nbformat": 4,
  "language_info": {
   "name": "python",
   "version": "3.9.6",
   "mimetype": "text/x-python",
   "codemirror_mode": {
    "name": "ipython",
    "version": 3
   },
   "pygments_lexer": "ipython3",
   "nbconvert_exporter": "python",
   "file_extension": ".py"
  },
  "kernelspec": {
   "name": "python3",
   "display_name": "Python 3.9.6 64-bit"
  },
  "interpreter": {
   "hash": "9e6fe232ec1802e04813a62eadbd4a033db6fcefdd78d84705bbb38e45fcef4a"
  }
 },
 "nbformat": 4,
 "nbformat_minor": 2
}