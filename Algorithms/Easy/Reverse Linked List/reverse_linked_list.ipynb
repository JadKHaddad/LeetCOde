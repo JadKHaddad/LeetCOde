{
 "cells": [
  {
   "cell_type": "code",
   "execution_count": null,
   "source": [
    "from typing import Optional\r\n",
    "class ListNode:\r\n",
    "    def __init__(self, val=0, next=None):\r\n",
    "        self.val = val\r\n",
    "        self.next = next\r\n",
    "\r\n",
    "def show(l1: Optional[ListNode]):\r\n",
    "    while l1:\r\n",
    "        print(l1.val)\r\n",
    "        l1 = l1.next"
   ],
   "outputs": [],
   "metadata": {}
  },
  {
   "cell_type": "code",
   "execution_count": null,
   "source": [
    "class Solution:\r\n",
    "    def reverseList(self, head: Optional[ListNode]) -> Optional[ListNode]:\r\n",
    "        arr = []\r\n",
    "        reversed = ListNode()\r\n",
    "        reversed_return = reversed\r\n",
    "        while head:\r\n",
    "            arr.append(head.val)\r\n",
    "            head = head.next\r\n",
    "        for i in range(1, len(arr) + 1):\r\n",
    "            reversed.next = ListNode(arr[-i])\r\n",
    "            reversed = reversed.next\r\n",
    "        return reversed_return.next"
   ],
   "outputs": [],
   "metadata": {}
  }
 ],
 "metadata": {
  "orig_nbformat": 4,
  "language_info": {
   "name": "python"
  }
 },
 "nbformat": 4,
 "nbformat_minor": 2
}