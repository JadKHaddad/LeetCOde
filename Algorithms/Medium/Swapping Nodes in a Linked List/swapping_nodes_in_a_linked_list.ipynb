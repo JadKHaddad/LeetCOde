{
 "cells": [
  {
   "cell_type": "code",
   "execution_count": 2,
   "source": [
    "from typing import Optional\r\n",
    "class ListNode:\r\n",
    "    def __init__(self, val=0, next=None):\r\n",
    "        self.val = val\r\n",
    "        self.next = next\r\n",
    "\r\n",
    "def show(l1: Optional[ListNode]):\r\n",
    "    while l1:\r\n",
    "        print(l1.val)\r\n",
    "        l1 = l1.next"
   ],
   "outputs": [],
   "metadata": {}
  },
  {
   "cell_type": "code",
   "execution_count": 34,
   "source": [
    "class Solution:\r\n",
    "    def swapNodes(self, head: Optional[ListNode], k: int) -> Optional[ListNode]:\r\n",
    "        arr = []\r\n",
    "        current = head\r\n",
    "        while current:\r\n",
    "            arr.append(current)\r\n",
    "            current = current.next\r\n",
    "        if k > len(arr):\r\n",
    "            return head\r\n",
    "        head_return = head\r\n",
    "        temp = arr[-k].val\r\n",
    "        temp2 = arr[k - 1].val\r\n",
    "        while head:\r\n",
    "            if head == arr[k - 1]:\r\n",
    "                head.val = temp\r\n",
    "            if head == arr[-k]:\r\n",
    "                head.val = temp2\r\n",
    "            head = head.next\r\n",
    "        return head_return"
   ],
   "outputs": [],
   "metadata": {}
  },
  {
   "cell_type": "code",
   "execution_count": 35,
   "source": [
    "head = ListNode(1,ListNode(2,ListNode(3,ListNode(4,ListNode(5)))))\r\n",
    "head = ListNode(1,ListNode(2))\r\n",
    "k = 3\r\n",
    "head = Solution().swapNodes(head, k)\r\n",
    "show(head)"
   ],
   "outputs": [
    {
     "output_type": "stream",
     "name": "stdout",
     "text": [
      "1\n",
      "2\n"
     ]
    }
   ],
   "metadata": {}
  }
 ],
 "metadata": {
  "orig_nbformat": 4,
  "language_info": {
   "name": "python",
   "version": "3.9.6",
   "mimetype": "text/x-python",
   "codemirror_mode": {
    "name": "ipython",
    "version": 3
   },
   "pygments_lexer": "ipython3",
   "nbconvert_exporter": "python",
   "file_extension": ".py"
  },
  "kernelspec": {
   "name": "python3",
   "display_name": "Python 3.9.6 64-bit"
  },
  "interpreter": {
   "hash": "9e6fe232ec1802e04813a62eadbd4a033db6fcefdd78d84705bbb38e45fcef4a"
  }
 },
 "nbformat": 4,
 "nbformat_minor": 2
}