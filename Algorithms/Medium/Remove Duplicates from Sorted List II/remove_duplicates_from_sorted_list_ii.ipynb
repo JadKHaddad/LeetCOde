{
 "cells": [
  {
   "cell_type": "code",
   "execution_count": 1,
   "source": [
    "from typing import Optional\r\n",
    "class ListNode:\r\n",
    "    def __init__(self, val=0, next=None):\r\n",
    "        self.val = val\r\n",
    "        self.next = next\r\n",
    "\r\n",
    "def show(l1: Optional[ListNode]):\r\n",
    "    while l1:\r\n",
    "        print(l1.val)\r\n",
    "        l1 = l1.next"
   ],
   "outputs": [],
   "metadata": {}
  },
  {
   "cell_type": "code",
   "execution_count": 3,
   "source": [
    "class Solution:\r\n",
    "    def deleteDuplicates(self, head: Optional[ListNode]) -> Optional[ListNode]:\r\n",
    "        if not head:\r\n",
    "            return head\r\n",
    "        new_head = ListNode()\r\n",
    "        new_head_return = new_head\r\n",
    "        added = False\r\n",
    "        safety_coin = None\r\n",
    "        while head:\r\n",
    "            if head.next:\r\n",
    "                if head.val != head.next.val:\r\n",
    "                    new_head.val = head.val\r\n",
    "                    new_head.next = ListNode()\r\n",
    "                    safety_coin = new_head\r\n",
    "                    new_head = new_head.next\r\n",
    "                    head = head.next\r\n",
    "                    added = True\r\n",
    "                    continue\r\n",
    "                while head:\r\n",
    "                    if head.next:\r\n",
    "                        if head.val != head.next.val:\r\n",
    "                            head = head.next\r\n",
    "                            break\r\n",
    "                        if not head.next.next:\r\n",
    "                            if safety_coin:\r\n",
    "                                safety_coin.next = None\r\n",
    "                    head = head.next\r\n",
    "                continue\r\n",
    "            new_head.val = head.val\r\n",
    "            new_head = new_head.next\r\n",
    "            head = head.next\r\n",
    "            added = True\r\n",
    "        if not added:\r\n",
    "            return None\r\n",
    "        return new_head_return\r\n",
    "\r\n",
    "    #not working what so ever!\r\n",
    "    def deleteDuplicates_(self, head: Optional[ListNode]) -> Optional[ListNode]:\r\n",
    "        if not head:\r\n",
    "            return None\r\n",
    "        new_head = head\r\n",
    "        new_head_return = new_head\r\n",
    "        while head:\r\n",
    "            if head.next:\r\n",
    "                if head.val != head.next.val:\r\n",
    "                    new_head = head\r\n",
    "                else:\r\n",
    "                    print('-------')\r\n",
    "                    while head:\r\n",
    "                        print('val: ', head.val)\r\n",
    "                        if head.next:\r\n",
    "                            \r\n",
    "                            if head.val != head.next.val:\r\n",
    "                                print('next val not same')\r\n",
    "                                print('next val is: ', head.next.val)\r\n",
    "                                print('current val new head is: ', new_head.val)\r\n",
    "                                new_head = head.next\r\n",
    "                                print('current val new head after edit is: ', new_head.val)\r\n",
    "                                new_head = new_head.next\r\n",
    "                                break\r\n",
    "                            print('next val is same')\r\n",
    "                            print('current val new head is: ', new_head.val)    \r\n",
    "                        else:\r\n",
    "                            print('no next!')\r\n",
    "                            new_head = head.next\r\n",
    "    \r\n",
    "                        head = head.next\r\n",
    "                    continue\r\n",
    "            new_head = new_head.next        \r\n",
    "            head = head.next\r\n",
    "        return new_head_return\r\n",
    "\r\n",
    "    #from internet, super cool\r\n",
    "    def deleteDuplicates__(self, head: Optional[ListNode]) -> Optional[ListNode]:\r\n",
    "        d = ListNode(0)\r\n",
    "        s = d\r\n",
    "        f = head\r\n",
    "        s.next = f\r\n",
    "        while f:\r\n",
    "            while (f.next != None and f.val == f.next.val):\r\n",
    "                f = f.next\r\n",
    "                \r\n",
    "            if s.next != f:\r\n",
    "                s.next = f.next\r\n",
    "                f = s.next\r\n",
    "                \r\n",
    "            else:\r\n",
    "                s = s.next\r\n",
    "                f = f.next\r\n",
    "        return d.next"
   ],
   "outputs": [],
   "metadata": {}
  },
  {
   "cell_type": "code",
   "execution_count": 6,
   "source": [
    "head = ListNode(1,ListNode(1,ListNode(2,ListNode(3,ListNode(4,ListNode(4,ListNode(5)))))))\r\n",
    "head = ListNode(1,ListNode(3,ListNode(3)))\r\n",
    "#head = ListNode(1,ListNode(1))\r\n",
    "head = Solution().deleteDuplicates(head)\r\n",
    "show(head)"
   ],
   "outputs": [
    {
     "output_type": "stream",
     "name": "stdout",
     "text": [
      "1\n"
     ]
    }
   ],
   "metadata": {}
  }
 ],
 "metadata": {
  "orig_nbformat": 4,
  "language_info": {
   "name": "python",
   "version": "3.9.6",
   "mimetype": "text/x-python",
   "codemirror_mode": {
    "name": "ipython",
    "version": 3
   },
   "pygments_lexer": "ipython3",
   "nbconvert_exporter": "python",
   "file_extension": ".py"
  },
  "kernelspec": {
   "name": "python3",
   "display_name": "Python 3.9.6 64-bit"
  },
  "interpreter": {
   "hash": "9e6fe232ec1802e04813a62eadbd4a033db6fcefdd78d84705bbb38e45fcef4a"
  }
 },
 "nbformat": 4,
 "nbformat_minor": 2
}