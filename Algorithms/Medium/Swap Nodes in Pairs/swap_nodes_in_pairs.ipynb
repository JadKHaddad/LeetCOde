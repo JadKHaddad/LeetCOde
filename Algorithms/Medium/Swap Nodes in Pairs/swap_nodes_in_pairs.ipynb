{
 "cells": [
  {
   "cell_type": "code",
   "execution_count": 56,
   "metadata": {},
   "outputs": [],
   "source": [
    "from typing import Optional\n",
    "\n",
    "\n",
    "class ListNode:\n",
    "    def __init__(self, val=0, next=None):\n",
    "        self.val = val\n",
    "        self.next = next\n",
    "\n",
    "\n",
    "def show(l1: Optional[ListNode]):\n",
    "    while l1:\n",
    "        print(l1.val)\n",
    "        l1 = l1.next\n"
   ]
  },
  {
   "cell_type": "code",
   "execution_count": 57,
   "metadata": {},
   "outputs": [],
   "source": [
    "class Solution:\n",
    "    def swapPairs(self, head: Optional[ListNode]) -> Optional[ListNode]:\n",
    "        if not head:\n",
    "            return None\n",
    "        if not head.next:\n",
    "            return head\n",
    "        head_new = ListNode()\n",
    "        head_return = head_new\n",
    "        while head.next:\n",
    "            temp1 = head\n",
    "            temp2 = temp1.next\n",
    "            temp3 = temp2.next\n",
    "            head = temp2\n",
    "            head.next = temp1\n",
    "            head.next.next = temp3\n",
    "            head_new.next = head\n",
    "            if not head.next.next:\n",
    "                break\n",
    "            head = head.next.next\n",
    "            head_new = head_new.next.next\n",
    "        return head_return.next\n"
   ]
  },
  {
   "cell_type": "code",
   "execution_count": 58,
   "metadata": {},
   "outputs": [
    {
     "name": "stdout",
     "output_type": "stream",
     "text": [
      "2\n",
      "1\n",
      "4\n",
      "3\n",
      "5\n"
     ]
    }
   ],
   "source": [
    "head = ListNode(1, ListNode(2))\n",
    "head = ListNode(1)\n",
    "head = ListNode(1, ListNode(2, ListNode(3, ListNode(4, ListNode(5)))))\n",
    "head = Solution().swapPairs(head)\n",
    "show(head)\n"
   ]
  }
 ],
 "metadata": {
  "kernelspec": {
   "display_name": "Python 3.10.5 64-bit (windows store)",
   "language": "python",
   "name": "python3"
  },
  "language_info": {
   "codemirror_mode": {
    "name": "ipython",
    "version": 3
   },
   "file_extension": ".py",
   "mimetype": "text/x-python",
   "name": "python",
   "nbconvert_exporter": "python",
   "pygments_lexer": "ipython3",
   "version": "3.10.5"
  },
  "orig_nbformat": 4,
  "vscode": {
   "interpreter": {
    "hash": "55f134e9885731f924e9a53fe3de69a1ca20f8c29564dcc584ed73a34dfee5e9"
   }
  }
 },
 "nbformat": 4,
 "nbformat_minor": 2
}
