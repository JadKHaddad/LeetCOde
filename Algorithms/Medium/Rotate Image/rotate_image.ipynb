{
 "cells": [
  {
   "cell_type": "code",
   "execution_count": null,
   "metadata": {},
   "outputs": [
    {
     "ename": "",
     "evalue": "",
     "output_type": "error",
     "traceback": [
      "\u001b[1;31mDas Ausführen von Zellen mit „Python 3.10.5 64-bit“ erfordert das ipykernel-Paket.\n",
      "Führen Sie den folgenden Befehl aus, um „ipykernel“ in der Python-Umgebung zu installieren. \r\n",
      "Befehl: „\"c:/Program Files/WindowsApps/PythonSoftwareFoundation.Python.3.10_3.10.1520.0_x64__qbz5n2kfra8p0/python3.10.exe\" -m pip install ipykernel -U --user --force-reinstall“"
     ]
    }
   ],
   "source": [
    "from typing import List\n"
   ]
  },
  {
   "cell_type": "code",
   "execution_count": null,
   "metadata": {},
   "outputs": [],
   "source": [
    "class Solution:\n",
    "    def rotate(self, matrix: List[List[int]]) -> None:\n",
    "        l = len(matrix) - 1\n",
    "\n",
    "        def swap(i, j, x, y):\n",
    "            temp = matrix[i][j]\n",
    "            matrix[i][j] = matrix[x][y]\n",
    "            matrix[x][y] = temp\n",
    "\n",
    "        for i in range(0, int(l+1/2)):\n",
    "            for j in range(i, l-i):\n",
    "                swap(i, j, j, l-i)\n",
    "                swap(i, j, l-i, l-j)\n",
    "                swap(i, j, l-j, i)\n"
   ]
  },
  {
   "cell_type": "code",
   "execution_count": null,
   "metadata": {},
   "outputs": [],
   "source": [
    "matrix = [\n",
    "    [5, 1, 9, 11],\n",
    "    [2, 4, 8, 10],\n",
    "    [13, 3, 6, 7],\n",
    "    [15, 14, 12, 16]\n",
    "]\n",
    "Solution().rotate(matrix)\n",
    "print(matrix)\n"
   ]
  }
 ],
 "metadata": {
  "kernelspec": {
   "display_name": "Python 3.10.5 64-bit",
   "language": "python",
   "name": "python3"
  },
  "language_info": {
   "name": "python",
   "version": "3.10.5"
  },
  "orig_nbformat": 4,
  "vscode": {
   "interpreter": {
    "hash": "b6213e0af081d56db034f795ff49d96980936e2ae540dda57fc6c3cbea6a5fc9"
   }
  }
 },
 "nbformat": 4,
 "nbformat_minor": 2
}
